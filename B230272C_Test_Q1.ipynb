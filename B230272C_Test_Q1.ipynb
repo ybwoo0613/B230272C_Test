{
 "cells": [
  {
   "cell_type": "code",
   "execution_count": 1,
   "id": "1d78356a-3c63-49fd-b2cd-bafdcba0b59b",
   "metadata": {},
   "outputs": [
    {
     "name": "stdout",
     "output_type": "stream",
     "text": [
      "_ _ _ _ _ _ _ _ _\n",
      "\n",
      "         ------\n",
      "         |    |\n",
      "         |\n",
      "         |\n",
      "         |\n",
      "         |\n",
      "        ------\n",
      "        \n",
      "Incorrect guesses: 0\n"
     ]
    },
    {
     "name": "stdin",
     "output_type": "stream",
     "text": [
      "Guess a letter:  s\n"
     ]
    },
    {
     "name": "stdout",
     "output_type": "stream",
     "text": [
      "S _ _ _ _ _ _ _ _\n",
      "\n",
      "         ------\n",
      "         |    |\n",
      "         |\n",
      "         |\n",
      "         |\n",
      "         |\n",
      "        ------\n",
      "        \n",
      "Incorrect guesses: 0\n"
     ]
    },
    {
     "name": "stdin",
     "output_type": "stream",
     "text": [
      "Guess a letter:  p\n"
     ]
    },
    {
     "name": "stdout",
     "output_type": "stream",
     "text": [
      "S P _ _ _ _ _ _ _\n",
      "\n",
      "         ------\n",
      "         |    |\n",
      "         |\n",
      "         |\n",
      "         |\n",
      "         |\n",
      "        ------\n",
      "        \n",
      "Incorrect guesses: 0\n"
     ]
    },
    {
     "name": "stdin",
     "output_type": "stream",
     "text": [
      "Guess a letter:  i\n"
     ]
    },
    {
     "name": "stdout",
     "output_type": "stream",
     "text": [
      "S P I _ _ _ _ _ _\n",
      "\n",
      "         ------\n",
      "         |    |\n",
      "         |\n",
      "         |\n",
      "         |\n",
      "         |\n",
      "        ------\n",
      "        \n",
      "Incorrect guesses: 0\n"
     ]
    },
    {
     "name": "stdin",
     "output_type": "stream",
     "text": [
      "Guess a letter:  d\n"
     ]
    },
    {
     "name": "stdout",
     "output_type": "stream",
     "text": [
      "S P I D _ _ _ _ _\n",
      "\n",
      "         ------\n",
      "         |    |\n",
      "         |\n",
      "         |\n",
      "         |\n",
      "         |\n",
      "        ------\n",
      "        \n",
      "Incorrect guesses: 0\n"
     ]
    },
    {
     "name": "stdin",
     "output_type": "stream",
     "text": [
      "Guess a letter:  e\n"
     ]
    },
    {
     "name": "stdout",
     "output_type": "stream",
     "text": [
      "S P I D E _ _ _ _\n",
      "\n",
      "         ------\n",
      "         |    |\n",
      "         |\n",
      "         |\n",
      "         |\n",
      "         |\n",
      "        ------\n",
      "        \n",
      "Incorrect guesses: 0\n"
     ]
    },
    {
     "name": "stdin",
     "output_type": "stream",
     "text": [
      "Guess a letter:  r\n"
     ]
    },
    {
     "name": "stdout",
     "output_type": "stream",
     "text": [
      "S P I D E R _ _ _\n",
      "\n",
      "         ------\n",
      "         |    |\n",
      "         |\n",
      "         |\n",
      "         |\n",
      "         |\n",
      "        ------\n",
      "        \n",
      "Incorrect guesses: 0\n"
     ]
    },
    {
     "name": "stdin",
     "output_type": "stream",
     "text": [
      "Guess a letter:  m\n"
     ]
    },
    {
     "name": "stdout",
     "output_type": "stream",
     "text": [
      "S P I D E R M _ _\n",
      "\n",
      "         ------\n",
      "         |    |\n",
      "         |\n",
      "         |\n",
      "         |\n",
      "         |\n",
      "        ------\n",
      "        \n",
      "Incorrect guesses: 0\n"
     ]
    },
    {
     "name": "stdin",
     "output_type": "stream",
     "text": [
      "Guess a letter:  a\n"
     ]
    },
    {
     "name": "stdout",
     "output_type": "stream",
     "text": [
      "S P I D E R M A _\n",
      "\n",
      "         ------\n",
      "         |    |\n",
      "         |\n",
      "         |\n",
      "         |\n",
      "         |\n",
      "        ------\n",
      "        \n",
      "Incorrect guesses: 0\n"
     ]
    },
    {
     "name": "stdin",
     "output_type": "stream",
     "text": [
      "Guess a letter:  n\n"
     ]
    },
    {
     "name": "stdout",
     "output_type": "stream",
     "text": [
      "S P I D E R M A N\n",
      "Congratulations! You guessed the word!\n"
     ]
    }
   ],
   "source": [
    "import random\n",
    "\n",
    "def hangman_game():\n",
    "    words = [\"PROGRAMMING\", \"SPIDERMAN\", \"SUPERMAN\"]\n",
    "    word_to_guess = random.choice(words)\n",
    "    hidden_word = [\"_\" for _ in word_to_guess]\n",
    "    guessed_letters = set()\n",
    "    incorrect_guesses = 0\n",
    "    max_incorrect_guesses = 6\n",
    "\n",
    "    hangman_stages = [\n",
    "        \"\"\"\n",
    "         ------\n",
    "         |    |\n",
    "         |\n",
    "         |\n",
    "         |\n",
    "         |\n",
    "        ------\n",
    "        \"\"\",\n",
    "        \"\"\"\n",
    "         ------\n",
    "         |    |\n",
    "         |    O\n",
    "         |\n",
    "         |\n",
    "         |\n",
    "        ------\n",
    "        \"\"\",\n",
    "        \"\"\"\n",
    "         ------\n",
    "         |    |\n",
    "         |    O\n",
    "         |    |\n",
    "         |\n",
    "         |\n",
    "        ------\n",
    "        \"\"\",\n",
    "        \"\"\"\n",
    "         ------\n",
    "         |    |\n",
    "         |    O\n",
    "         |   /|\n",
    "         |\n",
    "         |\n",
    "        ------\n",
    "        \"\"\",\n",
    "        \"\"\"\n",
    "         ------\n",
    "         |    |\n",
    "         |    O\n",
    "         |   /|\\\\\n",
    "         |\n",
    "         |\n",
    "        ------\n",
    "        \"\"\",\n",
    "        \"\"\"\n",
    "         ------\n",
    "         |    |\n",
    "         |    O\n",
    "         |   /|\\\\\n",
    "         |   /\n",
    "         |\n",
    "        ------\n",
    "        \"\"\",\n",
    "        \"\"\"\n",
    "         ------\n",
    "         |    |\n",
    "         |    O\n",
    "         |   /|\\\\\n",
    "         |   / \\\\\n",
    "         |\n",
    "        ------\n",
    "        \"\"\"\n",
    "    ]\n",
    "\n",
    "    while incorrect_guesses < max_incorrect_guesses and \"_\" in hidden_word:\n",
    "        print(\" \".join(hidden_word))\n",
    "        print(hangman_stages[incorrect_guesses])\n",
    "        print(f\"Incorrect guesses: {incorrect_guesses}\")\n",
    "        guess = input(\"Guess a letter: \").upper()\n",
    "\n",
    "        if guess in guessed_letters:\n",
    "            print(\"You already guessed that letter.\")\n",
    "        elif guess in word_to_guess:\n",
    "            guessed_letters.add(guess)\n",
    "            for index, letter in enumerate(word_to_guess):\n",
    "                if letter == guess:\n",
    "                    hidden_word[index] = guess\n",
    "        else:\n",
    "            guessed_letters.add(guess)\n",
    "            incorrect_guesses += 1\n",
    "\n",
    "    if \"_\" not in hidden_word:\n",
    "        print(\" \".join(hidden_word))\n",
    "        print(\"Congratulations! You guessed the word!\")\n",
    "    else:\n",
    "        print(hangman_stages[incorrect_guesses])\n",
    "        print(f\"You lost! The word was: {word_to_guess}\")\n",
    "\n",
    "if __name__ == \"__main__\":\n",
    "    hangman_game()\n"
   ]
  },
  {
   "cell_type": "code",
   "execution_count": null,
   "id": "5613ab82-574c-4f1b-8f24-474275e951f5",
   "metadata": {},
   "outputs": [],
   "source": []
  }
 ],
 "metadata": {
  "kernelspec": {
   "display_name": "Python 3 (ipykernel)",
   "language": "python",
   "name": "python3"
  },
  "language_info": {
   "codemirror_mode": {
    "name": "ipython",
    "version": 3
   },
   "file_extension": ".py",
   "mimetype": "text/x-python",
   "name": "python",
   "nbconvert_exporter": "python",
   "pygments_lexer": "ipython3",
   "version": "3.11.7"
  }
 },
 "nbformat": 4,
 "nbformat_minor": 5
}
